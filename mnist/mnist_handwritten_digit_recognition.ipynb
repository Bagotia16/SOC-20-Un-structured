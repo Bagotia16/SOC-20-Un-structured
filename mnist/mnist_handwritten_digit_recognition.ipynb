{
 "cells": [
  {
   "cell_type": "code",
   "execution_count": 14,
   "metadata": {},
   "outputs": [],
   "source": [
    "from keras.datasets import mnist\n",
    "from keras.models import Sequential\n",
    "from keras.layers import Dense\n",
    "from keras.layers import Flatten\n",
    "from keras.layers.convolutional import Conv2D\n",
    "from keras.layers.convolutional import MaxPooling2D\n",
    "from keras.utils import np_utils\n",
    "from keras.optimizers import Adam"
   ]
  },
  {
   "cell_type": "code",
   "execution_count": 15,
   "metadata": {},
   "outputs": [],
   "source": [
    "(X_train, y_train), (X_test, y_test) = mnist.load_data()"
   ]
  },
  {
   "cell_type": "code",
   "execution_count": 16,
   "metadata": {},
   "outputs": [],
   "source": [
    "X_train = X_train.reshape((X_train.shape[0], 28, 28, 1)).astype('float32')"
   ]
  },
  {
   "cell_type": "code",
   "execution_count": 17,
   "metadata": {},
   "outputs": [],
   "source": [
    "X_test = X_test.reshape((X_test.shape[0], 28, 28, 1)).astype('float32')"
   ]
  },
  {
   "cell_type": "code",
   "execution_count": 18,
   "metadata": {},
   "outputs": [],
   "source": [
    "X_train = X_train / 255\n",
    "X_test = X_test / 255"
   ]
  },
  {
   "cell_type": "code",
   "execution_count": 19,
   "metadata": {},
   "outputs": [],
   "source": [
    "X_valid, X_train = X_train[:5000], X_train[5000:]\n",
    "y_valid, y_train = y_train[:5000], y_train[5000:]"
   ]
  },
  {
   "cell_type": "code",
   "execution_count": 20,
   "metadata": {},
   "outputs": [],
   "source": [
    "y_train = np_utils.to_categorical(y_train)\n",
    "y_valid = np_utils.to_categorical(y_valid)\n",
    "y_test = np_utils.to_categorical(y_test)"
   ]
  },
  {
   "cell_type": "code",
   "execution_count": 21,
   "metadata": {},
   "outputs": [],
   "source": [
    "num_classes = y_test.shape[1]"
   ]
  },
  {
   "cell_type": "code",
   "execution_count": 22,
   "metadata": {},
   "outputs": [],
   "source": [
    "model = Sequential()"
   ]
  },
  {
   "cell_type": "code",
   "execution_count": 23,
   "metadata": {},
   "outputs": [],
   "source": [
    "model.add(Conv2D(24, (5, 5), input_shape=(28, 28, 1), activation='relu'))\n",
    "model.add(Conv2D(24, (5, 5), activation='relu'))\n",
    "model.add(MaxPooling2D())\n",
    "model.add(Flatten())\n",
    "model.add(Dense(128, activation='relu'))\n",
    "model.add(Dense(num_classes, activation='softmax'))"
   ]
  },
  {
   "cell_type": "code",
   "execution_count": 24,
   "metadata": {},
   "outputs": [],
   "source": [
    "adam = Adam(learning_rate=0.0015, beta_1=0.9, beta_2=0.999, amsgrad=False)"
   ]
  },
  {
   "cell_type": "code",
   "execution_count": 25,
   "metadata": {},
   "outputs": [],
   "source": [
    "model.compile(loss='categorical_crossentropy', optimizer='adam', metrics=['accuracy'])"
   ]
  },
  {
   "cell_type": "code",
   "execution_count": 26,
   "metadata": {
    "scrolled": false
   },
   "outputs": [
    {
     "name": "stdout",
     "output_type": "stream",
     "text": [
      "Train on 55000 samples, validate on 5000 samples\n",
      "Epoch 1/24\n",
      "55000/55000 [==============================] - 88s 2ms/step - loss: 0.1194 - accuracy: 0.9635 - val_loss: 0.0559 - val_accuracy: 0.9836\n",
      "Epoch 2/24\n",
      "55000/55000 [==============================] - 91s 2ms/step - loss: 0.0416 - accuracy: 0.9871 - val_loss: 0.0478 - val_accuracy: 0.9870\n",
      "Epoch 3/24\n",
      "55000/55000 [==============================] - 92s 2ms/step - loss: 0.0271 - accuracy: 0.9912 - val_loss: 0.0428 - val_accuracy: 0.9884\n",
      "Epoch 4/24\n",
      "55000/55000 [==============================] - 93s 2ms/step - loss: 0.0190 - accuracy: 0.9938 - val_loss: 0.0343 - val_accuracy: 0.9902\n",
      "Epoch 5/24\n",
      "55000/55000 [==============================] - 96s 2ms/step - loss: 0.0152 - accuracy: 0.9950 - val_loss: 0.0354 - val_accuracy: 0.9922\n",
      "Epoch 6/24\n",
      "55000/55000 [==============================] - 98s 2ms/step - loss: 0.0117 - accuracy: 0.9961 - val_loss: 0.0336 - val_accuracy: 0.9902\n",
      "Epoch 7/24\n",
      "55000/55000 [==============================] - 94s 2ms/step - loss: 0.0098 - accuracy: 0.9968 - val_loss: 0.0371 - val_accuracy: 0.9898\n",
      "Epoch 8/24\n",
      "55000/55000 [==============================] - 95s 2ms/step - loss: 0.0079 - accuracy: 0.9975 - val_loss: 0.0446 - val_accuracy: 0.9900\n",
      "Epoch 9/24\n",
      "55000/55000 [==============================] - 95s 2ms/step - loss: 0.0067 - accuracy: 0.9979 - val_loss: 0.0487 - val_accuracy: 0.9908\n",
      "Epoch 10/24\n",
      "55000/55000 [==============================] - 105s 2ms/step - loss: 0.0061 - accuracy: 0.9981 - val_loss: 0.0493 - val_accuracy: 0.9910\n",
      "Epoch 11/24\n",
      "55000/55000 [==============================] - 166s 3ms/step - loss: 0.0059 - accuracy: 0.9982 - val_loss: 0.0428 - val_accuracy: 0.9930\n",
      "Epoch 12/24\n",
      "55000/55000 [==============================] - 159s 3ms/step - loss: 0.0059 - accuracy: 0.9980 - val_loss: 0.0550 - val_accuracy: 0.9916\n",
      "Epoch 13/24\n",
      "55000/55000 [==============================] - 154s 3ms/step - loss: 0.0041 - accuracy: 0.9987 - val_loss: 0.0669 - val_accuracy: 0.9894\n",
      "Epoch 14/24\n",
      "55000/55000 [==============================] - 154s 3ms/step - loss: 0.0047 - accuracy: 0.9985 - val_loss: 0.0423 - val_accuracy: 0.9924\n",
      "Epoch 15/24\n",
      "55000/55000 [==============================] - 166s 3ms/step - loss: 0.0034 - accuracy: 0.9991 - val_loss: 0.0620 - val_accuracy: 0.9884\n",
      "Epoch 16/24\n",
      "55000/55000 [==============================] - 156s 3ms/step - loss: 0.0045 - accuracy: 0.9986 - val_loss: 0.0581 - val_accuracy: 0.9894\n",
      "Epoch 17/24\n",
      "55000/55000 [==============================] - 154s 3ms/step - loss: 0.0033 - accuracy: 0.9990 - val_loss: 0.0716 - val_accuracy: 0.9884\n",
      "Epoch 18/24\n",
      "55000/55000 [==============================] - 155s 3ms/step - loss: 0.0055 - accuracy: 0.9984 - val_loss: 0.0730 - val_accuracy: 0.9904\n",
      "Epoch 19/24\n",
      "55000/55000 [==============================] - 155s 3ms/step - loss: 0.0030 - accuracy: 0.9991 - val_loss: 0.0762 - val_accuracy: 0.9912\n",
      "Epoch 20/24\n",
      "55000/55000 [==============================] - 156s 3ms/step - loss: 0.0055 - accuracy: 0.9987 - val_loss: 0.0900 - val_accuracy: 0.9908\n",
      "Epoch 21/24\n",
      "55000/55000 [==============================] - 156s 3ms/step - loss: 0.0020 - accuracy: 0.9995 - val_loss: 0.0972 - val_accuracy: 0.9882\n",
      "Epoch 22/24\n",
      "55000/55000 [==============================] - 156s 3ms/step - loss: 0.0054 - accuracy: 0.9985 - val_loss: 0.0714 - val_accuracy: 0.9898\n",
      "Epoch 23/24\n",
      "55000/55000 [==============================] - 156s 3ms/step - loss: 0.0033 - accuracy: 0.9989 - val_loss: 0.0775 - val_accuracy: 0.9902\n",
      "Epoch 24/24\n",
      "55000/55000 [==============================] - 157s 3ms/step - loss: 0.0022 - accuracy: 0.9994 - val_loss: 0.1006 - val_accuracy: 0.9896\n"
     ]
    }
   ],
   "source": [
    "model_history = model.fit(X_train, y_train, validation_data=(X_valid, y_valid), epochs=24)"
   ]
  },
  {
   "cell_type": "code",
   "execution_count": 27,
   "metadata": {
    "scrolled": true
   },
   "outputs": [
    {
     "name": "stdout",
     "output_type": "stream",
     "text": [
      "CNN Error: 0.91%\n"
     ]
    }
   ],
   "source": [
    "scores = model.evaluate(X_test, y_test, verbose=0)\n",
    "print(\"CNN Error: %.2f%%\" % (100-scores[1]*100))"
   ]
  }
 ],
 "metadata": {
  "kernelspec": {
   "display_name": "Python 3",
   "language": "python",
   "name": "python3"
  },
  "language_info": {
   "codemirror_mode": {
    "name": "ipython",
    "version": 3
   },
   "file_extension": ".py",
   "mimetype": "text/x-python",
   "name": "python",
   "nbconvert_exporter": "python",
   "pygments_lexer": "ipython3",
   "version": "3.7.6"
  }
 },
 "nbformat": 4,
 "nbformat_minor": 4
}
