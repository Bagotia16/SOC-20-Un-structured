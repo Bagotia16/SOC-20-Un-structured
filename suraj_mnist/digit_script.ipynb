{
 "cells": [
  {
   "cell_type": "code",
   "execution_count": 1,
   "metadata": {},
   "outputs": [],
   "source": [
    "import numpy as np\n",
    "import tensorflow as tf\n",
    "import pandas as pd\n",
    "import matplotlib.pyplot as plt"
   ]
  },
  {
   "cell_type": "code",
   "execution_count": 2,
   "metadata": {},
   "outputs": [],
   "source": [
    "# loading the data\n",
    "train_data = np.genfromtxt('mtrain.csv', delimiter=',',skip_header=1, dtype= int)\n",
    "test_data = np.genfromtxt('mtest.csv', delimiter=',', skip_header=1, dtype= int)\n",
    "Y = train_data[:,0]\n",
    "X_train_orig = train_data[:, 1:]\n",
    "X_test_orig = test_data[:,:]"
   ]
  },
  {
   "cell_type": "code",
   "execution_count": 3,
   "metadata": {},
   "outputs": [
    {
     "name": "stdout",
     "output_type": "stream",
     "text": [
      "(42000, 784)\n"
     ]
    }
   ],
   "source": [
    "# normalization\n",
    "X_train =X_train_orig/255\n",
    "X_test = X_test_orig/255\n",
    "X=X_train.reshape(42000,28,28,1)\n",
    "X_t=X_test.reshape(28000,28,28,1)\n",
    "print(X_train.shape)"
   ]
  },
  {
   "cell_type": "code",
   "execution_count": 4,
   "metadata": {},
   "outputs": [],
   "source": [
    "#modelcreation (default layers)\n",
    "model=tf.keras.models.Sequential()\n",
    "model.add(tf.keras.layers.Conv2D(20, input_shape=(28,28,1), kernel_size = 5, strides=(1,1), padding='valid'))\n",
    "model.add(tf.keras.layers.MaxPool2D(pool_size= (2,2), strides = 2, padding = 'valid'))\n",
    "model.add(tf.keras.layers.Conv2D(40, kernel_size = 5, strides=(1,1), padding='valid'))\n",
    "model.add(tf.keras.layers.MaxPool2D(pool_size= (2,2), strides = 2, padding = 'valid'))\n",
    "model.add(tf.keras.layers.Flatten())\n",
    "model.add(tf.keras.layers.Dense(10))\n",
    "    "
   ]
  },
  {
   "cell_type": "code",
   "execution_count": 5,
   "metadata": {},
   "outputs": [
    {
     "name": "stdout",
     "output_type": "stream",
     "text": [
      "Epoch 1/15\n",
      "1313/1313 [==============================] - 34s 26ms/step - loss: 0.2056 - accuracy: 0.9405\n",
      "Epoch 2/15\n",
      "1313/1313 [==============================] - 36s 28ms/step - loss: 0.0738 - accuracy: 0.9776\n",
      "Epoch 3/15\n",
      "1313/1313 [==============================] - 39s 29ms/step - loss: 0.0577 - accuracy: 0.9818\n",
      "Epoch 4/15\n",
      "1313/1313 [==============================] - 36s 28ms/step - loss: 0.0473 - accuracy: 0.9848\n",
      "Epoch 5/15\n",
      "1313/1313 [==============================] - 34s 26ms/step - loss: 0.0412 - accuracy: 0.9872\n",
      "Epoch 6/15\n",
      "1313/1313 [==============================] - 34s 26ms/step - loss: 0.0362 - accuracy: 0.9880\n",
      "Epoch 7/15\n",
      "1313/1313 [==============================] - 37s 28ms/step - loss: 0.0306 - accuracy: 0.9904\n",
      "Epoch 8/15\n",
      "1313/1313 [==============================] - 37s 28ms/step - loss: 0.0293 - accuracy: 0.9903\n",
      "Epoch 9/15\n",
      "1313/1313 [==============================] - 38s 29ms/step - loss: 0.0241 - accuracy: 0.9922\n",
      "Epoch 10/15\n",
      "1313/1313 [==============================] - 35s 27ms/step - loss: 0.0194 - accuracy: 0.9935\n",
      "Epoch 11/15\n",
      "1313/1313 [==============================] - 35s 27ms/step - loss: 0.0208 - accuracy: 0.9930\n",
      "Epoch 12/15\n",
      "1313/1313 [==============================] - 37s 29ms/step - loss: 0.0194 - accuracy: 0.9935\n",
      "Epoch 13/15\n",
      "1313/1313 [==============================] - 37s 28ms/step - loss: 0.0176 - accuracy: 0.99410s - loss: 0.0175 \n",
      "Epoch 14/15\n",
      "1313/1313 [==============================] - 38s 29ms/step - loss: 0.0148 - accuracy: 0.9954\n",
      "Epoch 15/15\n",
      "1313/1313 [==============================] - 37s 28ms/step - loss: 0.0109 - accuracy: 0.9964\n"
     ]
    }
   ],
   "source": [
    "# compile and fit the model\n",
    "model.compile(optimizer='adam', loss=tf.keras.losses.SparseCategoricalCrossentropy(from_logits=True), metrics=['accuracy'])\n",
    "history = model.fit(X,Y, epochs=15)"
   ]
  },
  {
   "cell_type": "code",
   "execution_count": 7,
   "metadata": {},
   "outputs": [
    {
     "data": {
      "image/png": "[encoded data removed]",
      "text/plain": [
       "<Figure size 432x288 with 1 Axes>"
      ]
     },
     "metadata": {
      "needs_background": "light"
     },
     "output_type": "display_data"
    }
   ],
   "source": [
    "#visualize the model accuracy\n",
    "plt.plot(history.history['accuracy'])\n",
    "plt.title(\"Model Accuracy\")\n",
    "plt.ylabel(\"Accuracy\")\n",
    "plt.xlabel(\"Epoch\")\n",
    "plt.show()"
   ]
  },
  {
   "cell_type": "code",
   "execution_count": 8,
   "metadata": {},
   "outputs": [
    {
     "data": {
      "image/png": "[encoded data removed]",
      "text/plain": [
       "<Figure size 432x288 with 1 Axes>"
      ]
     },
     "metadata": {
      "needs_background": "light"
     },
     "output_type": "display_data"
    }
   ],
   "source": [
    "# visualize the model loss\n",
    "plt.plot(history.history['loss'])\n",
    "plt.title('Model loss')\n",
    "plt.ylabel('Loss')\n",
    "plt.xlabel('Epoch')\n",
    "plt.show()"
   ]
  },
  {
   "cell_type": "code",
   "execution_count": 9,
   "metadata": {},
   "outputs": [],
   "source": [
    "probability_model = tf.keras.Sequential([model, tf.keras.layers.Softmax()])\n",
    "predictions = probability_model.predict(X_t)"
   ]
  },
  {
   "cell_type": "code",
   "execution_count": 11,
   "metadata": {},
   "outputs": [
    {
     "name": "stdout",
     "output_type": "stream",
     "text": [
      "(28000,)\n",
      "(28000, 2)\n"
     ]
    }
   ],
   "source": [
    "#generating ImageId and saving final array\n",
    "arr=np.array(np.argmax(predictions,axis=1),dtype=int)\n",
    "print(arr.shape)\n",
    "arr1=np.arange(1,28001).T\n",
    "array=np.array([arr1,arr])\n",
    "array=array.T\n",
    "print(array.shape)"
   ]
  },
  {
   "cell_type": "code",
   "execution_count": 12,
   "metadata": {},
   "outputs": [],
   "source": [
    "# saving predicted labels into csv file\n",
    "import csv\n",
    "np.savetxt('sample_submission2.csv',array, delimiter=',')"
   ]
  },
  {
   "cell_type": "code",
   "execution_count": null,
   "metadata": {},
   "outputs": [],
   "source": []
  }
 ],
 "metadata": {
  "kernelspec": {
   "display_name": "Python 3",
   "language": "python",
   "name": "python3"
  },
  "language_info": {
   "codemirror_mode": {
    "name": "ipython",
    "version": 3
   },
   "file_extension": ".py",
   "mimetype": "text/x-python",
   "name": "python",
   "nbconvert_exporter": "python",
   "pygments_lexer": "ipython3",
   "version": "3.8.2"
  }
 },
 "nbformat": 4,
 "nbformat_minor": 4
}
