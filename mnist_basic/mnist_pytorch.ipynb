{
  "nbformat": 4,
  "nbformat_minor": 0,
  "metadata": {
    "colab": {
      "name": "mnist_pytorch.ipynb",
      "provenance": []
    },
    "kernelspec": {
      "name": "python3",
      "display_name": "Python 3"
    },
    "accelerator": "GPU"
  },
  "cells": [
    {
      "cell_type": "code",
      "metadata": {
        "id": "t6IxvJjV75pp",
        "colab_type": "code",
        "colab": {}
      },
      "source": [
        "import numpy as np\n",
        "import torch\n",
        "import torch.nn as nn\n",
        "import torch.nn.functional as F\n",
        "from sklearn.model_selection import train_test_split\n",
        "import torch.optim\n",
        "import torch.utils.data\n",
        "from torch.autograd import Variable"
      ],
      "execution_count": 0,
      "outputs": []
    },
    {
      "cell_type": "code",
      "metadata": {
        "id": "IEkRLI2m-41T",
        "colab_type": "code",
        "colab": {
          "base_uri": "https://localhost:8080/",
          "height": 34
        },
        "outputId": "483084e4-846a-43fc-d8a3-97c01bf519fd"
      },
      "source": [
        "from sklearn.datasets import fetch_openml\n",
        "mnist=fetch_openml('mnist_784',version=1)\n",
        "mnist.keys()"
      ],
      "execution_count": 2,
      "outputs": [
        {
          "output_type": "execute_result",
          "data": {
            "text/plain": [
              "dict_keys(['data', 'target', 'frame', 'feature_names', 'target_names', 'DESCR', 'details', 'categories', 'url'])"
            ]
          },
          "metadata": {
            "tags": []
          },
          "execution_count": 2
        }
      ]
    },
    {
      "cell_type": "code",
      "metadata": {
        "id": "fVT5ZJA0-43z",
        "colab_type": "code",
        "colab": {
          "base_uri": "https://localhost:8080/",
          "height": 34
        },
        "outputId": "f0d62b3f-292f-4426-9f28-9f11c93a8acc"
      },
      "source": [
        "x, y = mnist[\"data\"], mnist[\"target\"]\n",
        "y=y.astype(np.uint8)\n",
        "print(x.shape,y.shape)\n",
        "x_train,x_test,y_train,y_test=x[:42000],x[42000:],y[:42000],y[42000:]"
      ],
      "execution_count": 3,
      "outputs": [
        {
          "output_type": "stream",
          "text": [
            "(70000, 784) (70000,)\n"
          ],
          "name": "stdout"
        }
      ]
    },
    {
      "cell_type": "code",
      "metadata": {
        "id": "cn5X4Sm1R9sa",
        "colab_type": "code",
        "colab": {
          "base_uri": "https://localhost:8080/",
          "height": 51
        },
        "outputId": "470a45b5-cd35-44a7-f336-3667473c5442"
      },
      "source": [
        "BATCH_SIZE=250\n",
        "torch_x_train=torch.from_numpy(x_train).type(torch.LongTensor)\n",
        "torch_y_train=torch.from_numpy(y_train).type(torch.LongTensor)\n",
        "torch_x_test=torch.from_numpy(x_test).type(torch.LongTensor)\n",
        "torch_y_test=torch.from_numpy(y_test).type(torch.LongTensor)\n",
        "torch_x_train = torch_x_train.view(-1, 1,28,28).float()\n",
        "torch_x_test = torch_x_test.view(-1,1,28,28).float()\n",
        "print(torch_x_train.shape)\n",
        "print(torch_x_test.shape)"
      ],
      "execution_count": 4,
      "outputs": [
        {
          "output_type": "stream",
          "text": [
            "torch.Size([42000, 1, 28, 28])\n",
            "torch.Size([28000, 1, 28, 28])\n"
          ],
          "name": "stdout"
        }
      ]
    },
    {
      "cell_type": "code",
      "metadata": {
        "id": "rRyfFZAhR92V",
        "colab_type": "code",
        "colab": {}
      },
      "source": [
        "train=torch.utils.data.TensorDataset(torch_x_train,torch_y_train)\n",
        "test=torch.utils.data.TensorDataset(torch_x_test,torch_y_test)\n",
        "train_loader=torch.utils.data.DataLoader(train,batch_size=BATCH_SIZE,shuffle=False)\n",
        "test_loader=(torch.utils.data.DataLoader(test,batch_size=BATCH_SIZE,shuffle=False))"
      ],
      "execution_count": 0,
      "outputs": []
    },
    {
      "cell_type": "code",
      "metadata": {
        "id": "DXKUx9rOR-Ln",
        "colab_type": "code",
        "colab": {}
      },
      "source": [
        "def fit(model, train_loader):\n",
        "    optimizer = torch.optim.Adam(model.parameters())\n",
        "    error = nn.CrossEntropyLoss()\n",
        "    EPOCHS = 6\n",
        "    model.train()\n",
        "    for epoch in range(EPOCHS):\n",
        "        correct = 0\n",
        "        for batch_idx, (x_batch, y_batch) in enumerate(train_loader):\n",
        "            var_x_batch = Variable(x_batch).float()\n",
        "            var_y_batch = Variable(y_batch)\n",
        "            optimizer.zero_grad()\n",
        "            output = model(var_x_batch)\n",
        "            loss = error(output, var_y_batch)\n",
        "            loss.backward()\n",
        "            optimizer.step()\n",
        "\n",
        "            # Total correct predictions\n",
        "            predicted = torch.max(output.data, 1)[1] \n",
        "            correct += (predicted == var_y_batch).sum()\n",
        "            #print(correct)\n",
        "            if batch_idx % 50 == 0:\n",
        "                print('Epoch : {} [{}/{} ({:.0f}%)]\\tLoss: {:.6f}\\t Accuracy:{:.3f}%'.format(\n",
        "                    epoch+1, batch_idx*len(x_batch), len(train_loader.dataset), 100*batch_idx / len(train_loader), loss.data, float(correct*100) / float(BATCH_SIZE*(batch_idx+1))))"
      ],
      "execution_count": 0,
      "outputs": []
    },
    {
      "cell_type": "code",
      "metadata": {
        "id": "DJbXUImri3di",
        "colab_type": "code",
        "colab": {}
      },
      "source": [
        "def evaluate(model):\n",
        "    correct = 0 \n",
        "    for test_imgs, test_labels in test_loader:\n",
        "        #print(test_imgs.shape)\n",
        "        test_imgs = Variable(test_imgs).float()\n",
        "        output = model(test_imgs)\n",
        "        predicted = torch.max(output,1)[1]\n",
        "        correct += (predicted == test_labels).sum()\n",
        "    print(\"Test accuracy:{:.3f}% \".format( float(correct) / (len(test_loader)*BATCH_SIZE)))"
      ],
      "execution_count": 0,
      "outputs": []
    },
    {
      "cell_type": "code",
      "metadata": {
        "id": "6Kb-1J3u-4vj",
        "colab_type": "code",
        "colab": {
          "base_uri": "https://localhost:8080/",
          "height": 153
        },
        "outputId": "b369c82e-b7fc-4c0b-dcc7-7b8cb2f8e946"
      },
      "source": [
        "class cnn(nn.Module):\n",
        "  def __init__(self):\n",
        "    super(cnn, self).__init__()\n",
        "    self.conv1=nn.Conv2d(1,40,5)\n",
        "    self.conv2=nn.Conv2d(40,50,3,padding=1)\n",
        "    self.conv3=nn.Conv2d(50,60,3,padding=1)\n",
        "    self.fc1=nn.Linear(60*3*3,393)\n",
        "    self.fc2=nn.Linear(393,159)\n",
        "    self.fc3=nn.Linear(159,10)\n",
        "  \n",
        "  \n",
        "  def forward(self,x):\n",
        "    x = F.relu(self.conv1(x))\n",
        "    x = F.max_pool2d(x, 2, 2)\n",
        "    x = F.relu(self.conv2(x))\n",
        "    x = F.max_pool2d(x, 2, 2)\n",
        "    x = F.relu(self.conv3(x))\n",
        "    x = F.max_pool2d(x, 2, 2)    \n",
        "    x = x.view(-1,3*3*60)\n",
        "    x = F.relu(self.fc1(x))\n",
        "    x = F.relu(self.fc2(x))\n",
        "    x = self.fc3(x)\n",
        "    return F.log_softmax(x, dim=1)\n",
        "CNN=cnn()\n",
        "print(CNN)\n",
        "it = iter(train_loader)\n",
        "x_batch, y_batch = next(it)"
      ],
      "execution_count": 8,
      "outputs": [
        {
          "output_type": "stream",
          "text": [
            "cnn(\n",
            "  (conv1): Conv2d(1, 40, kernel_size=(5, 5), stride=(1, 1))\n",
            "  (conv2): Conv2d(40, 50, kernel_size=(3, 3), stride=(1, 1), padding=(1, 1))\n",
            "  (conv3): Conv2d(50, 60, kernel_size=(3, 3), stride=(1, 1), padding=(1, 1))\n",
            "  (fc1): Linear(in_features=540, out_features=393, bias=True)\n",
            "  (fc2): Linear(in_features=393, out_features=159, bias=True)\n",
            "  (fc3): Linear(in_features=159, out_features=10, bias=True)\n",
            ")\n"
          ],
          "name": "stdout"
        }
      ]
    },
    {
      "cell_type": "code",
      "metadata": {
        "id": "ogMXvmeKdpPm",
        "colab_type": "code",
        "colab": {
          "base_uri": "https://localhost:8080/",
          "height": 34
        },
        "outputId": "54ff6651-3ee9-483b-a703-dffe948e2df8"
      },
      "source": [
        "CNN.forward(x_batch).size()"
      ],
      "execution_count": 9,
      "outputs": [
        {
          "output_type": "execute_result",
          "data": {
            "text/plain": [
              "torch.Size([250, 10])"
            ]
          },
          "metadata": {
            "tags": []
          },
          "execution_count": 9
        }
      ]
    },
    {
      "cell_type": "code",
      "metadata": {
        "id": "KPiVEay_YVv6",
        "colab_type": "code",
        "colab": {
          "base_uri": "https://localhost:8080/",
          "height": 426
        },
        "outputId": "9149ee53-492b-4ce4-e000-bced86244298"
      },
      "source": [
        "fit(CNN,train_loader)"
      ],
      "execution_count": 10,
      "outputs": [
        {
          "output_type": "stream",
          "text": [
            "Epoch : 1 [0/42000 (0%)]\tLoss: 4.675600\t Accuracy:9.200%\n",
            "Epoch : 1 [12500/42000 (30%)]\tLoss: 0.246928\t Accuracy:76.753%\n",
            "Epoch : 1 [25000/42000 (60%)]\tLoss: 0.065686\t Accuracy:85.988%\n",
            "Epoch : 1 [37500/42000 (89%)]\tLoss: 0.083468\t Accuracy:89.534%\n",
            "Epoch : 2 [0/42000 (0%)]\tLoss: 0.120754\t Accuracy:97.200%\n",
            "Epoch : 2 [12500/42000 (30%)]\tLoss: 0.105498\t Accuracy:97.631%\n",
            "Epoch : 2 [25000/42000 (60%)]\tLoss: 0.032269\t Accuracy:97.949%\n",
            "Epoch : 2 [37500/42000 (89%)]\tLoss: 0.052831\t Accuracy:98.064%\n",
            "Epoch : 3 [0/42000 (0%)]\tLoss: 0.062244\t Accuracy:98.000%\n",
            "Epoch : 3 [12500/42000 (30%)]\tLoss: 0.096505\t Accuracy:98.494%\n",
            "Epoch : 3 [25000/42000 (60%)]\tLoss: 0.025102\t Accuracy:98.594%\n",
            "Epoch : 3 [37500/42000 (89%)]\tLoss: 0.030352\t Accuracy:98.612%\n",
            "Epoch : 4 [0/42000 (0%)]\tLoss: 0.048079\t Accuracy:99.200%\n",
            "Epoch : 4 [12500/42000 (30%)]\tLoss: 0.051913\t Accuracy:98.957%\n",
            "Epoch : 4 [25000/42000 (60%)]\tLoss: 0.011455\t Accuracy:99.038%\n",
            "Epoch : 4 [37500/42000 (89%)]\tLoss: 0.031695\t Accuracy:99.020%\n",
            "Epoch : 5 [0/42000 (0%)]\tLoss: 0.026384\t Accuracy:99.200%\n",
            "Epoch : 5 [12500/42000 (30%)]\tLoss: 0.035557\t Accuracy:99.255%\n",
            "Epoch : 5 [25000/42000 (60%)]\tLoss: 0.006950\t Accuracy:99.303%\n",
            "Epoch : 5 [37500/42000 (89%)]\tLoss: 0.013808\t Accuracy:99.282%\n",
            "Epoch : 6 [0/42000 (0%)]\tLoss: 0.021311\t Accuracy:98.800%\n",
            "Epoch : 6 [12500/42000 (30%)]\tLoss: 0.011106\t Accuracy:99.365%\n",
            "Epoch : 6 [25000/42000 (60%)]\tLoss: 0.011388\t Accuracy:99.386%\n",
            "Epoch : 6 [37500/42000 (89%)]\tLoss: 0.016244\t Accuracy:99.314%\n"
          ],
          "name": "stdout"
        }
      ]
    },
    {
      "cell_type": "code",
      "metadata": {
        "id": "75paaj3kYVyk",
        "colab_type": "code",
        "colab": {
          "base_uri": "https://localhost:8080/",
          "height": 34
        },
        "outputId": "c7b3d142-c7e9-44db-ee6f-99e933f2e737"
      },
      "source": [
        "evaluate(CNN)"
      ],
      "execution_count": 11,
      "outputs": [
        {
          "output_type": "stream",
          "text": [
            "Test accuracy:0.989% \n"
          ],
          "name": "stdout"
        }
      ]
    }
  ]
}